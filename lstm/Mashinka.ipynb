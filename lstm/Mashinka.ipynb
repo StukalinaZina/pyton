{
 "cells": [
  {
   "cell_type": "markdown",
   "metadata": {},
   "source": [
    "В этом задании мы будем работать с данными из сорневнования: \n",
    "[Toxic comment classification challenge](https://www.kaggle.com/c/jigsaw-toxic-comment-classification-challenge)\n",
    "  \n",
    "В задании небходимо по тексту комментария определить веротяности следующих категорий:\n",
    "- toxic\n",
    "- severe_toxic\n",
    "- obscene\n",
    "- threat\n",
    "- insult\n",
    "- identity_hate\n",
    "\n",
    "Как и в соревновании мы везде будем использовать метрику ROC AUC для валидации\n",
    "\n",
    "\n",
    "### Что нужно сделать? \n",
    "\n",
    "1. Подготовка :\n",
    "    - Скачайте данные, проведите первоначальные EDA: баланс классов, пересечение классов и т.д. (+)\n",
    "    - Придумайте и обоснуйте стратегию валидации. (+)\n",
    "    - Сделайте предбработку данных. Оцените что требуется делать с символами, заглавными буквами. Проведите лемматизацию или стеминг.(+)\n",
    "2. Примените любой Embedding (word2vec или Glove) (+)\n",
    "3. Постройте следующие модели (для каждой необходимо самостоятельно выбрать оптимальное количество слоеев и архитектуру, оценить качество, переобученность, построить кривые обучения и валидации, сделать выводы по примению модели):\n",
    "    - Одномерные свертки (+)\n",
    "    - LSTM или GRU (+)\n",
    "    - Bidirectional LSTM    (+)\n",
    "4. Попробуйте применить к этой задаче BERT или GPT-2. Выбор оптимального количества слоеев и архитектура на ваш вкус (но не забудьте обосновать его). Оцените качетво и другие параметры работы модели. \n"
   ]
  },
  {
   "cell_type": "code",
   "execution_count": 3,
   "metadata": {},
   "outputs": [],
   "source": [
    "import numpy as np\n",
    "import pandas as pd\n",
    "import keras\n",
    "from keras.preprocessing.text import Tokenizer\n",
    "from keras.preprocessing import sequence\n",
    "from keras.preprocessing.sequence import pad_sequences\n",
    "from keras.utils import to_categorical\n",
    "from keras.layers import Dense, Input\n",
    "from keras.layers import Conv1D, MaxPooling1D, Embedding, Activation, GlobalMaxPooling1D\n",
    "from keras.layers import LSTM, Bidirectional, GRU\n",
    "from keras.models import Model, Sequential\n",
    "from keras.callbacks import Callback\n",
    "import nltk\n",
    "from nltk.tokenize import RegexpTokenizer\n",
    "from sklearn.model_selection import train_test_split\n",
    "import re\n",
    "import codecs\n",
    "import matplotlib.pyplot as plt\n",
    "from sklearn.metrics import roc_auc_score"
   ]
  },
  {
   "cell_type": "code",
   "execution_count": 4,
   "metadata": {},
   "outputs": [],
   "source": [
    "train = pd.read_csv(\"train.csv\")\n",
    "test = pd.read_csv(\"test.csv\")"
   ]
  },
  {
   "cell_type": "markdown",
   "metadata": {},
   "source": [
    "## EDA"
   ]
  },
  {
   "cell_type": "code",
   "execution_count": 5,
   "metadata": {},
   "outputs": [],
   "source": [
    "df = pd.read_csv(\"train.csv\")"
   ]
  },
  {
   "cell_type": "markdown",
   "metadata": {},
   "source": [
    "### Посмотрим частоту появления каждого из классов"
   ]
  },
  {
   "cell_type": "code",
   "execution_count": 6,
   "metadata": {},
   "outputs": [],
   "source": [
    "col_names = df.columns.values[2:]\n",
    "col_names = col_names.tolist()\n",
    "col_names.append('None')\n",
    "x = [sum(df[y]) for y in df.columns.values[2:]]\n",
    "x.append(len(df) - sum(x))"
   ]
  },
  {
   "cell_type": "code",
   "execution_count": 7,
   "metadata": {},
   "outputs": [],
   "source": [
    "X = []\n",
    "for i in range(len(x)-1):\n",
    "    X.append(x[i])"
   ]
  },
  {
   "cell_type": "code",
   "execution_count": 8,
   "metadata": {},
   "outputs": [
    {
     "data": {
      "text/plain": [
       "Text(0, 0.5, 'Frequency')"
      ]
     },
     "execution_count": 8,
     "metadata": {},
     "output_type": "execute_result"
    },
    {
     "data": {
      "image/png": "[encoded data removed]",
      "text/plain": [
       "<Figure size 720x720 with 1 Axes>"
      ]
     },
     "metadata": {
      "needs_background": "light"
     },
     "output_type": "display_data"
    }
   ],
   "source": [
    "plt.figure(figsize = (10, 10))\n",
    "plt.bar(np.arange(len(X)), X)\n",
    "plt.xticks(np.arange(7), col_names)\n",
    "plt.xlabel('Categories')\n",
    "plt.ylabel('Frequency')"
   ]
  },
  {
   "cell_type": "markdown",
   "metadata": {},
   "source": [
    "Можно сделать вывод, что классы не сбалансированы."
   ]
  },
  {
   "cell_type": "markdown",
   "metadata": {},
   "source": [
    "### Посмотрим на пересечения двух разных классов"
   ]
  },
  {
   "cell_type": "code",
   "execution_count": 9,
   "metadata": {},
   "outputs": [
    {
     "data": {
      "text/plain": [
       "identity_hate  identity_hate    1.000000\n",
       "severe_toxic   severe_toxic     1.000000\n",
       "threat         threat           1.000000\n",
       "insult         obscene          0.741272\n",
       "toxic          obscene          0.676515\n",
       "insult         toxic            0.647518\n",
       "obscene        severe_toxic     0.403014\n",
       "insult         severe_toxic     0.375807\n",
       "               identity_hate    0.337736\n",
       "toxic          severe_toxic     0.308619\n",
       "dtype: float64"
      ]
     },
     "execution_count": 9,
     "metadata": {},
     "output_type": "execute_result"
    }
   ],
   "source": [
    "df.corr().unstack().sort_values(ascending=False)[0:20:2]"
   ]
  },
  {
   "cell_type": "markdown",
   "metadata": {},
   "source": [
    "Видим, что классы пересекаются. Например, insult и obscene пересекаются в 74% случаев."
   ]
  },
  {
   "cell_type": "markdown",
   "metadata": {},
   "source": [
    "## Подготовка текста\n",
    "Уберем слова из набора contraction_mapping, они не влияют на \"токсичность\" комментариев. Приведем все слова к нижнему регистру, уберем знаки препинания, символы."
   ]
  },
  {
   "cell_type": "code",
   "execution_count": 10,
   "metadata": {},
   "outputs": [],
   "source": [
    "contraction_mapping = {\"ain't\": \"is not\", \"aren't\": \"are not\",\"can't\": \"cannot\", \"'cause\": \"because\", \"could've\": \"could have\", \"couldn't\": \"could not\",\n",
    "                           \"didn't\": \"did not\",  \"doesn't\": \"does not\", \"don't\": \"do not\", \"hadn't\": \"had not\", \"hasn't\": \"has not\", \"haven't\": \"have not\",\n",
    "                           \"he'd\": \"he would\",\"he'll\": \"he will\", \"he's\": \"he is\", \"how'd\": \"how did\", \"how'd'y\": \"how do you\", \"how'll\": \"how will\", \"how's\": \"how is\",\n",
    "                           \"I'd\": \"I would\", \"I'd've\": \"I would have\", \"I'll\": \"I will\", \"I'll've\": \"I will have\",\"I'm\": \"I am\", \"I've\": \"I have\", \"i'd\": \"i would\",\n",
    "                           \"i'd've\": \"i would have\", \"i'll\": \"i will\",  \"i'll've\": \"i will have\",\"i'm\": \"i am\", \"i've\": \"i have\", \"isn't\": \"is not\", \"it'd\": \"it would\",\n",
    "                           \"it'd've\": \"it would have\", \"it'll\": \"it will\", \"it'll've\": \"it will have\",\"it's\": \"it is\", \"let's\": \"let us\", \"ma'am\": \"madam\",\n",
    "                           \"mayn't\": \"may not\", \"might've\": \"might have\",\"mightn't\": \"might not\",\"mightn't've\": \"might not have\", \"must've\": \"must have\",\n",
    "                           \"mustn't\": \"must not\", \"mustn't've\": \"must not have\", \"needn't\": \"need not\", \"needn't've\": \"need not have\",\"o'clock\": \"of the clock\",\n",
    "                           \"oughtn't\": \"ought not\", \"oughtn't've\": \"ought not have\", \"shan't\": \"shall not\", \"sha'n't\": \"shall not\", \"shan't've\": \"shall not have\",\n",
    "                           \"she'd\": \"she would\", \"she'd've\": \"she would have\", \"she'll\": \"she will\", \"she'll've\": \"she will have\", \"she's\": \"she is\",\n",
    "                           \"should've\": \"should have\", \"shouldn't\": \"should not\", \"shouldn't've\": \"should not have\", \"so've\": \"so have\",\"so's\": \"so as\",\n",
    "                           \"this's\": \"this is\",\"that'd\": \"that would\", \"that'd've\": \"that would have\", \"that's\": \"that is\", \"there'd\": \"there would\",\n",
    "                           \"there'd've\": \"there would have\", \"there's\": \"there is\", \"here's\": \"here is\",\"they'd\": \"they would\", \"they'd've\": \"they would have\",\n",
    "                           \"they'll\": \"they will\", \"they'll've\": \"they will have\", \"they're\": \"they are\", \"they've\": \"they have\", \"to've\": \"to have\",\n",
    "                           \"wasn't\": \"was not\", \"we'd\": \"we would\", \"we'd've\": \"we would have\", \"we'll\": \"we will\", \"we'll've\": \"we will have\", \"we're\": \"we are\",\n",
    "                           \"we've\": \"we have\", \"weren't\": \"were not\", \"what'll\": \"what will\", \"what'll've\": \"what will have\", \"what're\": \"what are\",\n",
    "                           \"what's\": \"what is\", \"what've\": \"what have\", \"when's\": \"when is\", \"when've\": \"when have\", \"where'd\": \"where did\", \"where's\": \"where is\",\n",
    "                           \"where've\": \"where have\", \"who'll\": \"who will\", \"who'll've\": \"who will have\", \"who's\": \"who is\", \"who've\": \"who have\",\n",
    "                           \"why's\": \"why is\", \"why've\": \"why have\", \"will've\": \"will have\", \"won't\": \"will not\", \"won't've\": \"will not have\",\n",
    "                           \"would've\": \"would have\", \"wouldn't\": \"would not\", \"wouldn't've\": \"would not have\", \"y'all\": \"you all\",\n",
    "                           \"y'all'd\": \"you all would\",\"y'all'd've\": \"you all would have\",\"y'all're\": \"you all are\",\"y'all've\": \"you all have\",\n",
    "                           \"you'd\": \"you would\", \"you'd've\": \"you would have\", \"you'll\": \"you will\", \"you'll've\": \"you will have\",\n",
    "                           \"you're\": \"you are\", \"you've\": \"you have\"}"
   ]
  },
  {
   "cell_type": "code",
   "execution_count": 11,
   "metadata": {},
   "outputs": [],
   "source": [
    "def text_cleaner(text,num):\n",
    "    newString = text.lower()\n",
    "    newString = re.sub(r'\\([^)]*\\)', '', newString)\n",
    "    newString = re.sub('\"','', newString)\n",
    "    newString = ' '.join([contraction_mapping[t] if t in contraction_mapping else t for t in newString.split(\" \")])    \n",
    "    newString = re.sub(r\"'s\\b\",\"\",newString)\n",
    "    newString = re.sub(\"[^a-zA-Z]\", \" \", newString) \n",
    "    newString = re.sub('[m]{2,}', 'mm', newString)\n",
    "    if(num==0):\n",
    "        tokens = [w for w in newString.split()]\n",
    "    else:\n",
    "        tokens=newString.split()\n",
    "    long_words=[]\n",
    "    for i in tokens:\n",
    "        if len(i)>1:                                                \n",
    "            long_words.append(i)   \n",
    "    return (\" \".join(long_words)).strip()"
   ]
  },
  {
   "cell_type": "code",
   "execution_count": 12,
   "metadata": {},
   "outputs": [],
   "source": [
    "cleaned_text = []\n",
    "for t in train['comment_text']:\n",
    "    cleaned_text.append(text_cleaner(t,0))"
   ]
  },
  {
   "cell_type": "code",
   "execution_count": 13,
   "metadata": {},
   "outputs": [],
   "source": [
    "train['comment_text'] = cleaned_text"
   ]
  },
  {
   "cell_type": "code",
   "execution_count": 14,
   "metadata": {},
   "outputs": [
    {
     "data": {
      "text/html": [
       "<div>\n",
       "<style scoped>\n",
       "    .dataframe tbody tr th:only-of-type {\n",
       "        vertical-align: middle;\n",
       "    }\n",
       "\n",
       "    .dataframe tbody tr th {\n",
       "        vertical-align: top;\n",
       "    }\n",
       "\n",
       "    .dataframe thead th {\n",
       "        text-align: right;\n",
       "    }\n",
       "</style>\n",
       "<table border=\"1\" class=\"dataframe\">\n",
       "  <thead>\n",
       "    <tr style=\"text-align: right;\">\n",
       "      <th></th>\n",
       "      <th>id</th>\n",
       "      <th>comment_text</th>\n",
       "      <th>toxic</th>\n",
       "      <th>severe_toxic</th>\n",
       "      <th>obscene</th>\n",
       "      <th>threat</th>\n",
       "      <th>insult</th>\n",
       "      <th>identity_hate</th>\n",
       "    </tr>\n",
       "  </thead>\n",
       "  <tbody>\n",
       "    <tr>\n",
       "      <th>0</th>\n",
       "      <td>0000997932d777bf</td>\n",
       "      <td>explanation why the edits made under my userna...</td>\n",
       "      <td>0</td>\n",
       "      <td>0</td>\n",
       "      <td>0</td>\n",
       "      <td>0</td>\n",
       "      <td>0</td>\n",
       "      <td>0</td>\n",
       "    </tr>\n",
       "    <tr>\n",
       "      <th>1</th>\n",
       "      <td>000103f0d9cfb60f</td>\n",
       "      <td>aww he matches this background colour am seemi...</td>\n",
       "      <td>0</td>\n",
       "      <td>0</td>\n",
       "      <td>0</td>\n",
       "      <td>0</td>\n",
       "      <td>0</td>\n",
       "      <td>0</td>\n",
       "    </tr>\n",
       "    <tr>\n",
       "      <th>2</th>\n",
       "      <td>000113f07ec002fd</td>\n",
       "      <td>hey man am really not trying to edit war it is...</td>\n",
       "      <td>0</td>\n",
       "      <td>0</td>\n",
       "      <td>0</td>\n",
       "      <td>0</td>\n",
       "      <td>0</td>\n",
       "      <td>0</td>\n",
       "    </tr>\n",
       "    <tr>\n",
       "      <th>3</th>\n",
       "      <td>0001b41b1c6bb37e</td>\n",
       "      <td>more cannot make any real suggestions on impro...</td>\n",
       "      <td>0</td>\n",
       "      <td>0</td>\n",
       "      <td>0</td>\n",
       "      <td>0</td>\n",
       "      <td>0</td>\n",
       "      <td>0</td>\n",
       "    </tr>\n",
       "    <tr>\n",
       "      <th>4</th>\n",
       "      <td>0001d958c54c6e35</td>\n",
       "      <td>you sir are my hero any chance you remember wh...</td>\n",
       "      <td>0</td>\n",
       "      <td>0</td>\n",
       "      <td>0</td>\n",
       "      <td>0</td>\n",
       "      <td>0</td>\n",
       "      <td>0</td>\n",
       "    </tr>\n",
       "  </tbody>\n",
       "</table>\n",
       "</div>"
      ],
      "text/plain": [
       "                 id                                       comment_text  toxic  \\\n",
       "0  0000997932d777bf  explanation why the edits made under my userna...      0   \n",
       "1  000103f0d9cfb60f  aww he matches this background colour am seemi...      0   \n",
       "2  000113f07ec002fd  hey man am really not trying to edit war it is...      0   \n",
       "3  0001b41b1c6bb37e  more cannot make any real suggestions on impro...      0   \n",
       "4  0001d958c54c6e35  you sir are my hero any chance you remember wh...      0   \n",
       "\n",
       "   severe_toxic  obscene  threat  insult  identity_hate  \n",
       "0             0        0       0       0              0  \n",
       "1             0        0       0       0              0  \n",
       "2             0        0       0       0              0  \n",
       "3             0        0       0       0              0  \n",
       "4             0        0       0       0              0  "
      ]
     },
     "execution_count": 14,
     "metadata": {},
     "output_type": "execute_result"
    }
   ],
   "source": [
    "train.head()"
   ]
  },
  {
   "cell_type": "markdown",
   "metadata": {},
   "source": [
    "## Лемматизация\n",
    "Выбираю лемматизацию, так как здесь слова приводятся к начальной форме, а в стемминге обрезаются концы слов."
   ]
  },
  {
   "cell_type": "code",
   "execution_count": 19,
   "metadata": {},
   "outputs": [
    {
     "name": "stderr",
     "output_type": "stream",
     "text": [
      "[nltk_data] Downloading package punkt to\n",
      "[nltk_data]     C:\\Users\\Зина\\AppData\\Roaming\\nltk_data...\n",
      "[nltk_data]   Package punkt is already up-to-date!\n",
      "[nltk_data] Downloading package wordnet to\n",
      "[nltk_data]     C:\\Users\\Зина\\AppData\\Roaming\\nltk_data...\n",
      "[nltk_data]   Unzipping corpora\\wordnet.zip.\n"
     ]
    },
    {
     "data": {
      "text/plain": [
       "True"
      ]
     },
     "execution_count": 19,
     "metadata": {},
     "output_type": "execute_result"
    }
   ],
   "source": [
    "import nltk\n",
    "nltk.download('punkt')\n",
    "nltk.download('wordnet')"
   ]
  },
  {
   "cell_type": "code",
   "execution_count": 20,
   "metadata": {},
   "outputs": [],
   "source": [
    "from nltk.stem import WordNetLemmatizer \n",
    "from nltk import word_tokenize\n",
    "lemmatizer = WordNetLemmatizer()\n",
    "word_list = []\n",
    "\n",
    "for i in range(train.shape[0]):\n",
    "    word_list.append(word_tokenize(train[\"comment_text\"][i]))\n",
    "    \n",
    "lem_out = []\n",
    "\n",
    "for j in range(len(word_list)):\n",
    "    lem_out.append(' '.join([lemmatizer.lemmatize(w) for w in word_list[j]]))"
   ]
  },
  {
   "cell_type": "code",
   "execution_count": 21,
   "metadata": {},
   "outputs": [],
   "source": [
    "train[\"comment_text\"] = lem_out"
   ]
  },
  {
   "cell_type": "code",
   "execution_count": 22,
   "metadata": {},
   "outputs": [
    {
     "data": {
      "text/html": [
       "<div>\n",
       "<style scoped>\n",
       "    .dataframe tbody tr th:only-of-type {\n",
       "        vertical-align: middle;\n",
       "    }\n",
       "\n",
       "    .dataframe tbody tr th {\n",
       "        vertical-align: top;\n",
       "    }\n",
       "\n",
       "    .dataframe thead th {\n",
       "        text-align: right;\n",
       "    }\n",
       "</style>\n",
       "<table border=\"1\" class=\"dataframe\">\n",
       "  <thead>\n",
       "    <tr style=\"text-align: right;\">\n",
       "      <th></th>\n",
       "      <th>id</th>\n",
       "      <th>comment_text</th>\n",
       "      <th>toxic</th>\n",
       "      <th>severe_toxic</th>\n",
       "      <th>obscene</th>\n",
       "      <th>threat</th>\n",
       "      <th>insult</th>\n",
       "      <th>identity_hate</th>\n",
       "    </tr>\n",
       "  </thead>\n",
       "  <tbody>\n",
       "    <tr>\n",
       "      <th>0</th>\n",
       "      <td>0000997932d777bf</td>\n",
       "      <td>explanation why the edits made under my userna...</td>\n",
       "      <td>0</td>\n",
       "      <td>0</td>\n",
       "      <td>0</td>\n",
       "      <td>0</td>\n",
       "      <td>0</td>\n",
       "      <td>0</td>\n",
       "    </tr>\n",
       "    <tr>\n",
       "      <th>1</th>\n",
       "      <td>000103f0d9cfb60f</td>\n",
       "      <td>aww he match this background colour am seeming...</td>\n",
       "      <td>0</td>\n",
       "      <td>0</td>\n",
       "      <td>0</td>\n",
       "      <td>0</td>\n",
       "      <td>0</td>\n",
       "      <td>0</td>\n",
       "    </tr>\n",
       "    <tr>\n",
       "      <th>2</th>\n",
       "      <td>000113f07ec002fd</td>\n",
       "      <td>hey man am really not trying to edit war it is...</td>\n",
       "      <td>0</td>\n",
       "      <td>0</td>\n",
       "      <td>0</td>\n",
       "      <td>0</td>\n",
       "      <td>0</td>\n",
       "      <td>0</td>\n",
       "    </tr>\n",
       "    <tr>\n",
       "      <th>3</th>\n",
       "      <td>0001b41b1c6bb37e</td>\n",
       "      <td>more can not make any real suggestion on impro...</td>\n",
       "      <td>0</td>\n",
       "      <td>0</td>\n",
       "      <td>0</td>\n",
       "      <td>0</td>\n",
       "      <td>0</td>\n",
       "      <td>0</td>\n",
       "    </tr>\n",
       "    <tr>\n",
       "      <th>4</th>\n",
       "      <td>0001d958c54c6e35</td>\n",
       "      <td>you sir are my hero any chance you remember wh...</td>\n",
       "      <td>0</td>\n",
       "      <td>0</td>\n",
       "      <td>0</td>\n",
       "      <td>0</td>\n",
       "      <td>0</td>\n",
       "      <td>0</td>\n",
       "    </tr>\n",
       "  </tbody>\n",
       "</table>\n",
       "</div>"
      ],
      "text/plain": [
       "                 id                                       comment_text  toxic  \\\n",
       "0  0000997932d777bf  explanation why the edits made under my userna...      0   \n",
       "1  000103f0d9cfb60f  aww he match this background colour am seeming...      0   \n",
       "2  000113f07ec002fd  hey man am really not trying to edit war it is...      0   \n",
       "3  0001b41b1c6bb37e  more can not make any real suggestion on impro...      0   \n",
       "4  0001d958c54c6e35  you sir are my hero any chance you remember wh...      0   \n",
       "\n",
       "   severe_toxic  obscene  threat  insult  identity_hate  \n",
       "0             0        0       0       0              0  \n",
       "1             0        0       0       0              0  \n",
       "2             0        0       0       0              0  \n",
       "3             0        0       0       0              0  \n",
       "4             0        0       0       0              0  "
      ]
     },
     "execution_count": 22,
     "metadata": {},
     "output_type": "execute_result"
    }
   ],
   "source": [
    "train.head()"
   ]
  },
  {
   "cell_type": "markdown",
   "metadata": {},
   "source": [
    "## Embedding"
   ]
  },
  {
   "cell_type": "code",
   "execution_count": 23,
   "metadata": {},
   "outputs": [],
   "source": [
    "embed_size = 50\n",
    "max_features = 20000  \n",
    "maxlen = 100 \n",
    "\n",
    "\n",
    "list_sentences_train = train[\"comment_text\"].fillna(\"_na_\").values\n",
    "list_classes = [\"toxic\", \"severe_toxic\", \"obscene\", \"threat\", \"insult\", \"identity_hate\"]\n",
    "y_train = train[list_classes].values\n",
    "\n",
    "# Превращаем каждый комментарий в список индексов слов одинаковой длины (с усечением или дополнением по мере необходимости).\n",
    "tokenizer = Tokenizer(num_words=max_features)\n",
    "tokenizer.fit_on_texts(list(list_sentences_train)) # учимся на тренировочном тесте\n",
    "list_tokenized_train = tokenizer.texts_to_sequences(list_sentences_train) # Переводим тексты трэйна и теста в последовательности\n",
    "x_train = pad_sequences(list_tokenized_train, maxlen=maxlen) # Делаем длину векторов одинаковой"
   ]
  },
  {
   "cell_type": "code",
   "execution_count": 24,
   "metadata": {},
   "outputs": [
    {
     "name": "stderr",
     "output_type": "stream",
     "text": [
      "C:\\Anaconda\\lib\\site-packages\\IPython\\core\\interactiveshell.py:3338: FutureWarning: arrays to stack must be passed as a \"sequence\" type such as list or tuple. Support for non-sequence iterables such as generators is deprecated as of NumPy 1.16 and will raise an error in the future.\n",
      "  if (await self.run_code(code, result,  async_=asy)):\n"
     ]
    },
    {
     "data": {
      "text/plain": [
       "(0.020940498, 0.6441043)"
      ]
     },
     "execution_count": 24,
     "metadata": {},
     "output_type": "execute_result"
    }
   ],
   "source": [
    "EMBEDDING_FILE = 'glove.6B.50d.txt'\n",
    "\n",
    "def get_coefs(word,*arr): \n",
    "    return word, np.asarray(arr, dtype='float32')\n",
    "embeddings_index = dict(get_coefs(*o.strip().split()) for o in codecs.open(EMBEDDING_FILE, \"r\", \"utf_8_sig\" ))\n",
    "\n",
    "all_embs = np.stack(embeddings_index.values())\n",
    "emb_mean, emb_std = all_embs.mean(), all_embs.std() \n",
    "emb_mean, emb_std"
   ]
  },
  {
   "cell_type": "code",
   "execution_count": 25,
   "metadata": {},
   "outputs": [],
   "source": [
    "word_index = tokenizer.word_index \n",
    "nb_words = min(max_features, len(word_index)) \n",
    "embedding_matrix = np.random.normal(emb_mean, emb_std, (nb_words, embed_size))\n",
    "\n",
    "for word, i in word_index.items():\n",
    "    if i >= max_features: \n",
    "        continue\n",
    "    embedding_vector = embeddings_index.get(word)\n",
    "    if embedding_vector is not None: \n",
    "        embedding_matrix[i] = embedding_vector"
   ]
  },
  {
   "cell_type": "code",
   "execution_count": 26,
   "metadata": {},
   "outputs": [
    {
     "data": {
      "text/plain": [
       "(20000, 50)"
      ]
     },
     "execution_count": 26,
     "metadata": {},
     "output_type": "execute_result"
    }
   ],
   "source": [
    "embedding_matrix.shape"
   ]
  },
  {
   "cell_type": "code",
   "execution_count": 27,
   "metadata": {},
   "outputs": [],
   "source": [
    "class RocAucEvaluation(Callback):\n",
    "    def __init__(self, training_data, validation_data, interval=1):\n",
    "        super(Callback, self).__init__()\n",
    "\n",
    "        self.interval = interval\n",
    "        self.X_train, self.y_train = training_data\n",
    "        self.X_val, self.y_val = validation_data\n",
    "        self.score_train = []\n",
    "        self.score_val = []\n",
    "\n",
    "    def on_epoch_end(self, epoch, logs={}):\n",
    "        if epoch % self.interval == 0:\n",
    "            y_pred_val = self.model.predict(self.X_val, verbose=0)\n",
    "            y_pred_train = self.model.predict(self.X_train, verbose=0)\n",
    "            score_train = roc_auc_score(self.y_train, y_pred_train) \n",
    "            score_val = roc_auc_score(self.y_val, y_pred_val)\n",
    "            self.score_train.append(score_train)\n",
    "            self.score_val.append(score_val)\n",
    "            print(\"\\n ROC-AUC - epoch: %d - score: %.6f \\n\" % (epoch+1, score_val))"
   ]
  },
  {
   "cell_type": "markdown",
   "metadata": {},
   "source": [
    "## Разбиение на train и validation\n",
    "Хотелось бы тренироваться на максимально возможном количестве данных, поэтому train_size=0.9\n",
    "Посмотрела некоторые варианты решения на каггл, берут 0.95, но, по-моему, это многовато."
   ]
  },
  {
   "cell_type": "code",
   "execution_count": 28,
   "metadata": {},
   "outputs": [],
   "source": [
    "X_tr, X_val, y_tr, y_val = train_test_split(x_train, y_train, train_size=0.9, random_state=42)\n",
    "RocAuc = RocAucEvaluation(training_data=(X_tr, y_tr), validation_data=(X_val, y_val), interval=1)\n"
   ]
  },
  {
   "cell_type": "markdown",
   "metadata": {},
   "source": [
    "# Пора учить модели!"
   ]
  },
  {
   "cell_type": "markdown",
   "metadata": {},
   "source": [
    "Использую самые простые архитектуры, это позволит относительно быстро обучиться и сравнить их. Также обучаюсь на пяти эпохах, потому что по train сетка переобучается, а по val перестает сильно расти (это очень хорошо видно в GRU)."
   ]
  },
  {
   "cell_type": "markdown",
   "metadata": {},
   "source": [
    "## Одномерные свертки"
   ]
  },
  {
   "cell_type": "code",
   "execution_count": 29,
   "metadata": {},
   "outputs": [
    {
     "name": "stdout",
     "output_type": "stream",
     "text": [
      "Model: \"sequential\"\n",
      "_________________________________________________________________\n",
      "Layer (type)                 Output Shape              Param #   \n",
      "=================================================================\n",
      "embedding (Embedding)        (None, None, 50)          1000000   \n",
      "_________________________________________________________________\n",
      "conv1d (Conv1D)              (None, None, 128)         19328     \n",
      "_________________________________________________________________\n",
      "global_max_pooling1d (Global (None, 128)               0         \n",
      "_________________________________________________________________\n",
      "dense (Dense)                (None, 6)                 774       \n",
      "_________________________________________________________________\n",
      "activation (Activation)      (None, 6)                 0         \n",
      "=================================================================\n",
      "Total params: 1,020,102\n",
      "Trainable params: 20,102\n",
      "Non-trainable params: 1,000,000\n",
      "_________________________________________________________________\n"
     ]
    }
   ],
   "source": [
    "cnn_model = Sequential()\n",
    "#cnn_model.add(Input(shape=(maxlen, )))\n",
    "cnn_model.add(Embedding(max_features, embed_size, weights=[embedding_matrix], trainable=False))\n",
    "cnn_model.add(Conv1D(128,3,\n",
    "                padding='valid',\n",
    "                 activation='relu',\n",
    "                 strides=1))\n",
    "cnn_model.add(GlobalMaxPooling1D())\n",
    "cnn_model.add(Dense(6))\n",
    "cnn_model.add(Activation('sigmoid'))\n",
    "\n",
    "cnn_model.compile(loss='binary_crossentropy', optimizer='adam', metrics=['accuracy'])\n",
    "\n",
    "cnn_model.summary()"
   ]
  },
  {
   "cell_type": "code",
   "execution_count": 30,
   "metadata": {},
   "outputs": [
    {
     "name": "stdout",
     "output_type": "stream",
     "text": [
      "Epoch 1/5\n",
      "4488/4488 [==============================] - 22s 5ms/step - loss: 0.0804 - accuracy: 0.7886 - val_loss: 0.0551 - val_accuracy: 0.8846\n",
      "\n",
      " ROC-AUC - epoch: 1 - score: 0.975633 \n",
      "\n",
      "Epoch 2/5\n",
      "4488/4488 [==============================] - 21s 5ms/step - loss: 0.0558 - accuracy: 0.8099 - val_loss: 0.0526 - val_accuracy: 0.8607\n",
      "\n",
      " ROC-AUC - epoch: 2 - score: 0.977563 \n",
      "\n",
      "Epoch 3/5\n",
      "4488/4488 [==============================] - 21s 5ms/step - loss: 0.0511 - accuracy: 0.8165 - val_loss: 0.0531 - val_accuracy: 0.7859\n",
      "\n",
      " ROC-AUC - epoch: 3 - score: 0.977842 \n",
      "\n",
      "Epoch 4/5\n",
      "4488/4488 [==============================] - 21s 5ms/step - loss: 0.0490 - accuracy: 0.7790 - val_loss: 0.0537 - val_accuracy: 0.9546\n",
      "\n",
      " ROC-AUC - epoch: 4 - score: 0.978185 \n",
      "\n",
      "Epoch 5/5\n",
      "4488/4488 [==============================] - 21s 5ms/step - loss: 0.0469 - accuracy: 0.7947 - val_loss: 0.0529 - val_accuracy: 0.8947\n",
      "\n",
      " ROC-AUC - epoch: 5 - score: 0.977709 \n",
      "\n"
     ]
    }
   ],
   "source": [
    "cnn_hist = cnn_model.fit(X_tr, y_tr, batch_size=32, epochs=5, validation_data=(X_val, y_val), callbacks=[RocAuc])"
   ]
  },
  {
   "cell_type": "code",
   "execution_count": 31,
   "metadata": {},
   "outputs": [
    {
     "data": {
      "image/png": "[encoded data removed]",
      "text/plain": [
       "<Figure size 432x288 with 1 Axes>"
      ]
     },
     "metadata": {
      "needs_background": "light"
     },
     "output_type": "display_data"
    }
   ],
   "source": [
    "plt.plot(RocAuc.score_val, label='Test')\n",
    "plt.plot(RocAuc.score_train, label='Train')\n",
    "plt.xlabel('Epoch')\n",
    "plt.ylabel('roc_auc_score')\n",
    "plt.legend()\n",
    "plt.show()"
   ]
  },
  {
   "cell_type": "markdown",
   "metadata": {},
   "source": [
    "## LSTM или GRU\n",
    "Решила посмотреть обе модели"
   ]
  },
  {
   "cell_type": "markdown",
   "metadata": {},
   "source": [
    "#### GRU"
   ]
  },
  {
   "cell_type": "code",
   "execution_count": 32,
   "metadata": {},
   "outputs": [
    {
     "name": "stdout",
     "output_type": "stream",
     "text": [
      "Model: \"sequential_1\"\n",
      "_________________________________________________________________\n",
      "Layer (type)                 Output Shape              Param #   \n",
      "=================================================================\n",
      "embedding_1 (Embedding)      (None, None, 50)          1000000   \n",
      "_________________________________________________________________\n",
      "gru (GRU)                    (None, 128)               69120     \n",
      "_________________________________________________________________\n",
      "dense_1 (Dense)              (None, 6)                 774       \n",
      "=================================================================\n",
      "Total params: 1,069,894\n",
      "Trainable params: 69,894\n",
      "Non-trainable params: 1,000,000\n",
      "_________________________________________________________________\n"
     ]
    }
   ],
   "source": [
    "gru_model = Sequential()\n",
    "gru_model.add(Embedding(max_features, embed_size, weights=[embedding_matrix], trainable=False))\n",
    "gru_model.add(GRU(128))#return_sequences=True))\n",
    "gru_model.add(Dense(6, activation='sigmoid'))\n",
    "gru_model.compile(loss='binary_crossentropy', optimizer='adam', metrics=['accuracy'])\n",
    "gru_model.summary()"
   ]
  },
  {
   "cell_type": "code",
   "execution_count": 33,
   "metadata": {
    "scrolled": false
   },
   "outputs": [
    {
     "name": "stdout",
     "output_type": "stream",
     "text": [
      "Epoch 1/5\n",
      "4488/4488 [==============================] - 147s 32ms/step - loss: 0.0799 - accuracy: 0.9581 - val_loss: 0.0557 - val_accuracy: 0.9775\n",
      "\n",
      " ROC-AUC - epoch: 1 - score: 0.975445 \n",
      "\n",
      "Epoch 2/5\n",
      "4488/4488 [==============================] - 142s 32ms/step - loss: 0.0539 - accuracy: 0.9667 - val_loss: 0.0504 - val_accuracy: 0.7543\n",
      "\n",
      " ROC-AUC - epoch: 2 - score: 0.981748 \n",
      "\n",
      "Epoch 3/5\n",
      "4488/4488 [==============================] - 143s 32ms/step - loss: 0.0492 - accuracy: 0.9385 - val_loss: 0.0470 - val_accuracy: 0.8907\n",
      "\n",
      " ROC-AUC - epoch: 3 - score: 0.983523 \n",
      "\n",
      "Epoch 4/5\n",
      "4488/4488 [==============================] - 145s 32ms/step - loss: 0.0472 - accuracy: 0.9140 - val_loss: 0.0467 - val_accuracy: 0.9518\n",
      "\n",
      " ROC-AUC - epoch: 4 - score: 0.984003 \n",
      "\n",
      "Epoch 5/5\n",
      "4488/4488 [==============================] - 147s 33ms/step - loss: 0.0450 - accuracy: 0.9458 - val_loss: 0.0468 - val_accuracy: 0.9509\n",
      "\n",
      " ROC-AUC - epoch: 5 - score: 0.983601 \n",
      "\n"
     ]
    }
   ],
   "source": [
    "gru_hist = gru_model.fit(X_tr, y_tr, batch_size=32, epochs=5, validation_data=(X_val, y_val), callbacks=[RocAuc])"
   ]
  },
  {
   "cell_type": "code",
   "execution_count": 34,
   "metadata": {},
   "outputs": [],
   "source": [
    "gru_val = []\n",
    "for i in range(5):\n",
    "    gru_val.append(RocAuc.score_val[i+5])\n",
    "    \n",
    "gru_train = []\n",
    "for i in range(5):\n",
    "    gru_train.append(RocAuc.score_train[i+5])"
   ]
  },
  {
   "cell_type": "code",
   "execution_count": 35,
   "metadata": {},
   "outputs": [
    {
     "data": {
      "image/png": "[encoded data removed]",
      "text/plain": [
       "<Figure size 432x288 with 1 Axes>"
      ]
     },
     "metadata": {
      "needs_background": "light"
     },
     "output_type": "display_data"
    }
   ],
   "source": [
    "plt.plot(gru_val, label='Test')\n",
    "plt.plot(gru_train, label='Train')\n",
    "plt.xlabel('Epoch')\n",
    "plt.ylabel('roc_auc_score')\n",
    "plt.legend()\n",
    "plt.show()"
   ]
  },
  {
   "cell_type": "markdown",
   "metadata": {},
   "source": [
    "#### LSTM"
   ]
  },
  {
   "cell_type": "code",
   "execution_count": 36,
   "metadata": {},
   "outputs": [
    {
     "name": "stdout",
     "output_type": "stream",
     "text": [
      "Model: \"sequential_2\"\n",
      "_________________________________________________________________\n",
      "Layer (type)                 Output Shape              Param #   \n",
      "=================================================================\n",
      "embedding_2 (Embedding)      (None, None, 50)          1000000   \n",
      "_________________________________________________________________\n",
      "lstm (LSTM)                  (None, 128)               91648     \n",
      "_________________________________________________________________\n",
      "dense_2 (Dense)              (None, 6)                 774       \n",
      "=================================================================\n",
      "Total params: 1,092,422\n",
      "Trainable params: 92,422\n",
      "Non-trainable params: 1,000,000\n",
      "_________________________________________________________________\n"
     ]
    }
   ],
   "source": [
    "lstm_model = Sequential()\n",
    "lstm_model.add(Embedding(max_features, embed_size, weights=[embedding_matrix], trainable=False))\n",
    "lstm_model.add(LSTM(128))#return_sequences=True))\n",
    "lstm_model.add(Dense(6, activation='sigmoid'))\n",
    "lstm_model.compile(loss='binary_crossentropy', optimizer='adam', metrics=['accuracy'])\n",
    "lstm_model.summary()"
   ]
  },
  {
   "cell_type": "code",
   "execution_count": 37,
   "metadata": {},
   "outputs": [
    {
     "name": "stdout",
     "output_type": "stream",
     "text": [
      "Epoch 1/5\n",
      "4488/4488 [==============================] - 180s 40ms/step - loss: 0.0896 - accuracy: 0.9382 - val_loss: 0.0592 - val_accuracy: 0.9930\n",
      "\n",
      " ROC-AUC - epoch: 1 - score: 0.969183 \n",
      "\n",
      "Epoch 2/5\n",
      "4488/4488 [==============================] - 177s 39ms/step - loss: 0.0584 - accuracy: 0.9931 - val_loss: 0.0515 - val_accuracy: 0.9937\n",
      "\n",
      " ROC-AUC - epoch: 2 - score: 0.975562 \n",
      "\n",
      "Epoch 3/5\n",
      "4488/4488 [==============================] - 175s 39ms/step - loss: 0.0525 - accuracy: 0.9911 - val_loss: 0.0492 - val_accuracy: 0.9856\n",
      "\n",
      " ROC-AUC - epoch: 3 - score: 0.979743 \n",
      "\n",
      "Epoch 4/5\n",
      "4488/4488 [==============================] - 165s 37ms/step - loss: 0.0495 - accuracy: 0.9847 - val_loss: 0.0484 - val_accuracy: 0.9916\n",
      "\n",
      " ROC-AUC - epoch: 4 - score: 0.980070 \n",
      "\n",
      "Epoch 5/5\n",
      "4488/4488 [==============================] - 179s 40ms/step - loss: 0.0457 - accuracy: 0.9889 - val_loss: 0.0471 - val_accuracy: 0.9797\n",
      "\n",
      " ROC-AUC - epoch: 5 - score: 0.980982 \n",
      "\n"
     ]
    }
   ],
   "source": [
    "lstm_hist = lstm_model.fit(X_tr, y_tr, batch_size=32, epochs=5, validation_data=(X_val, y_val), callbacks=[RocAuc])"
   ]
  },
  {
   "cell_type": "code",
   "execution_count": 42,
   "metadata": {},
   "outputs": [],
   "source": [
    "lstm_val = []\n",
    "for i in range(5):\n",
    "    lstm_val.append(RocAuc.score_val[i+10])\n",
    "    \n",
    "lstm_train = []\n",
    "for i in range(5):\n",
    "    lstm_train.append(RocAuc.score_train[i+10])"
   ]
  },
  {
   "cell_type": "code",
   "execution_count": 43,
   "metadata": {},
   "outputs": [
    {
     "data": {
      "image/png": "[encoded data removed]",
      "text/plain": [
       "<Figure size 432x288 with 1 Axes>"
      ]
     },
     "metadata": {
      "needs_background": "light"
     },
     "output_type": "display_data"
    }
   ],
   "source": [
    "plt.plot(lstm_val, label='Test')\n",
    "plt.plot(lstm_train, label='Train')\n",
    "plt.xlabel('Epoch')\n",
    "plt.ylabel('roc_auc_score')\n",
    "plt.legend()\n",
    "plt.show()"
   ]
  },
  {
   "cell_type": "markdown",
   "metadata": {},
   "source": [
    "## Bidirectional LSTM"
   ]
  },
  {
   "cell_type": "code",
   "execution_count": 40,
   "metadata": {},
   "outputs": [
    {
     "name": "stdout",
     "output_type": "stream",
     "text": [
      "Model: \"sequential_3\"\n",
      "_________________________________________________________________\n",
      "Layer (type)                 Output Shape              Param #   \n",
      "=================================================================\n",
      "embedding_3 (Embedding)      (None, None, 50)          1000000   \n",
      "_________________________________________________________________\n",
      "bidirectional (Bidirectional (None, 256)               183296    \n",
      "_________________________________________________________________\n",
      "dense_3 (Dense)              (None, 6)                 1542      \n",
      "=================================================================\n",
      "Total params: 1,184,838\n",
      "Trainable params: 184,838\n",
      "Non-trainable params: 1,000,000\n",
      "_________________________________________________________________\n"
     ]
    }
   ],
   "source": [
    "blstm_model = Sequential()\n",
    "blstm_model.add(Embedding(max_features, embed_size, weights=[embedding_matrix], trainable=False))\n",
    "blstm_model.add(Bidirectional(LSTM(128)))\n",
    "blstm_model.add(Dense(6, activation='sigmoid'))\n",
    "blstm_model.compile(loss='binary_crossentropy', optimizer='adam', metrics=['accuracy'])\n",
    "blstm_model.summary()"
   ]
  },
  {
   "cell_type": "code",
   "execution_count": 41,
   "metadata": {
    "scrolled": false
   },
   "outputs": [
    {
     "name": "stdout",
     "output_type": "stream",
     "text": [
      "Epoch 1/5\n",
      "4488/4488 [==============================] - 250s 55ms/step - loss: 0.0842 - accuracy: 0.9665 - val_loss: 0.0565 - val_accuracy: 0.9940\n",
      "\n",
      " ROC-AUC - epoch: 1 - score: 0.972996 \n",
      "\n",
      "Epoch 2/5\n",
      "4488/4488 [==============================] - 261s 58ms/step - loss: 0.0551 - accuracy: 0.9890 - val_loss: 0.0517 - val_accuracy: 0.9922\n",
      "\n",
      " ROC-AUC - epoch: 2 - score: 0.977051 \n",
      "\n",
      "Epoch 3/5\n",
      "4488/4488 [==============================] - 263s 59ms/step - loss: 0.0504 - accuracy: 0.9849 - val_loss: 0.0483 - val_accuracy: 0.9867\n",
      "\n",
      " ROC-AUC - epoch: 3 - score: 0.981292 \n",
      "\n",
      "Epoch 4/5\n",
      "4488/4488 [==============================] - 248s 55ms/step - loss: 0.0465 - accuracy: 0.9760 - val_loss: 0.0485 - val_accuracy: 0.9882\n",
      "\n",
      " ROC-AUC - epoch: 4 - score: 0.981199 \n",
      "\n",
      "Epoch 5/5\n",
      "4488/4488 [==============================] - 269s 60ms/step - loss: 0.0438 - accuracy: 0.9816 - val_loss: 0.0469 - val_accuracy: 0.9862\n",
      "\n",
      " ROC-AUC - epoch: 5 - score: 0.980529 \n",
      "\n"
     ]
    }
   ],
   "source": [
    "blstm_hist = blstm_model.fit(X_tr, y_tr, batch_size=32, epochs=5, validation_data=(X_val, y_val), callbacks=[RocAuc])"
   ]
  },
  {
   "cell_type": "code",
   "execution_count": 44,
   "metadata": {},
   "outputs": [],
   "source": [
    "blstm_val = []\n",
    "for i in range(5):\n",
    "    blstm_val.append(RocAuc.score_val[i+15])\n",
    "    \n",
    "blstm_train = []\n",
    "for i in range(5):\n",
    "    blstm_train.append(RocAuc.score_train[i+15])"
   ]
  },
  {
   "cell_type": "code",
   "execution_count": 45,
   "metadata": {},
   "outputs": [
    {
     "data": {
      "image/png": "[encoded data removed]",
      "text/plain": [
       "<Figure size 432x288 with 1 Axes>"
      ]
     },
     "metadata": {
      "needs_background": "light"
     },
     "output_type": "display_data"
    }
   ],
   "source": [
    "plt.plot(blstm_val, label='Test')\n",
    "plt.plot(blstm_train, label='Train')\n",
    "plt.xlabel('Epoch')\n",
    "plt.ylabel('roc_auc_score')\n",
    "plt.legend()\n",
    "plt.show()"
   ]
  },
  {
   "cell_type": "markdown",
   "metadata": {},
   "source": [
    "### Построим графики roc_auc_score для каждой модели на валидации и сравним их"
   ]
  },
  {
   "cell_type": "code",
   "execution_count": 46,
   "metadata": {},
   "outputs": [],
   "source": [
    "cnn_val = []\n",
    "for i in range(5):\n",
    "    cnn_val.append(RocAuc.score_val[i])"
   ]
  },
  {
   "cell_type": "code",
   "execution_count": 47,
   "metadata": {},
   "outputs": [
    {
     "data": {
      "image/png": "[encoded data removed]",
      "text/plain": [
       "<Figure size 432x288 with 1 Axes>"
      ]
     },
     "metadata": {
      "needs_background": "light"
     },
     "output_type": "display_data"
    }
   ],
   "source": [
    "plt.plot(cnn_val, label='CNN')\n",
    "plt.plot(gru_val, label='GRU')\n",
    "plt.plot(lstm_val, label='LSTM')\n",
    "plt.plot(blstm_val, label='bLSTM')\n",
    "plt.xlabel('Epoch')\n",
    "plt.ylabel('roc_auc_score')\n",
    "plt.legend()\n",
    "plt.show()"
   ]
  },
  {
   "cell_type": "markdown",
   "metadata": {},
   "source": [
    "GRU выдает лучший результат!"
   ]
  },
  {
   "cell_type": "code",
   "execution_count": null,
   "metadata": {},
   "outputs": [],
   "source": []
  }
 ],
 "metadata": {
  "kernelspec": {
   "display_name": "Python 3",
   "language": "python",
   "name": "python3"
  },
  "language_info": {
   "codemirror_mode": {
    "name": "ipython",
    "version": 3
   },
   "file_extension": ".py",
   "mimetype": "text/x-python",
   "name": "python",
   "nbconvert_exporter": "python",
   "pygments_lexer": "ipython3",
   "version": "3.8.5"
  }
 },
 "nbformat": 4,
 "nbformat_minor": 2
}
